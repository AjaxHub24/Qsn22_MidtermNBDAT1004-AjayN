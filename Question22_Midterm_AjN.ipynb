{
 "cells": [
  {
   "cell_type": "markdown",
   "id": "7ab386f8",
   "metadata": {},
   "source": [
    "Question 22: \n",
    "\n",
    "In a jupyter notebook solve the following question using both python and SQL. Please upload the notebook to GitHub and provide the link submission box below.\n",
    "\n",
    "\n",
    "\n",
    "+---------------+---------+\n",
    "| Column Name   | Type    |\n",
    "+---------------+---------+\n",
    "| id            | int     |\n",
    "| recordDate    | date    |\n",
    "| temperature   | int     |\n",
    "+---------------+---------+\n",
    "id is the column with unique values for this table.\n",
    "This table contains information about the temperature on a certain day.\n",
    " \n",
    " \n",
    "\n",
    "Write a solution to find all dates' Id with higher temperatures compared to its previous dates (yesterday).\n",
    "\n",
    "Return the result table in any order.\n",
    "\n",
    "Please use the following input Weather table for your solution. To receive full marks you will need to create the database, create the table, insert the data below and execute the SQL query.\n",
    "\n",
    " \n",
    "\n",
    "Input: \n",
    "Weather table:\n",
    "+----+------------+-------------+\n",
    "| id | recordDate | temperature |\n",
    "+----+------------+-------------+\n",
    "| 1  | 2015-01-01 | 10          |\n",
    "| 2  | 2015-01-02 | 25          |\n",
    "| 3  | 2015-01-03 | 20          |\n",
    "| 4  | 2015-01-04 | 30          |\n",
    "+----+------------+-------------+\n",
    "Output: \n",
    "+----+\n",
    "| id |\n",
    "+----+\n",
    "| 2  |\n",
    "| 4  |\n",
    "+----+\n",
    "Explanation: \n",
    "In 2015-01-02, the temperature was higher than the previous day (10 -> 25).\n",
    "In 2015-01-04, the temperature was higher than the previous day (20 -> 30)."
   ]
  },
  {
   "cell_type": "code",
   "execution_count": 16,
   "id": "957086e5",
   "metadata": {},
   "outputs": [
    {
     "name": "stdout",
     "output_type": "stream",
     "text": [
      "+----+\n",
      "| id |\n",
      "+----+\n",
      "|  2 |\n",
      "|  4 |\n",
      "+----+\n"
     ]
    }
   ],
   "source": [
    "import sqlite3\n",
    "\n",
    "                                     #to connect to SQLite database\n",
    "conn = sqlite3.connect(':memory:')  # Use an in-memory database for this example\n",
    "\n",
    "cursor = conn.cursor()             #for cursor object\n",
    "\n",
    "                                #for weather table\n",
    "cursor.execute(''' CREATE TABLE Weather (id INTEGER PRIMARY KEY,recordDate DATE,temp INTEGER)''')\n",
    "\n",
    "# Insert data into the Weather table\n",
    "data = [(1, '2015-01-01', 10),\n",
    "        (2, '2015-01-02', 25),\n",
    "        (3, '2015-01-03', 20),(4, '2015-01-04', 30)]\n",
    "\n",
    "cursor.executemany('INSERT INTO Weather (id, recordDate, temp) VALUES (?, ?, ?)', data)\n",
    "conn.commit()\n",
    "                                #to find all IDs with higher temp. compared to the previous dates\n",
    "\n",
    "query = '''                       \n",
    "SELECT w1.id\n",
    "FROM Weather w1\n",
    "JOIN Weather w2 ON DATE(w1.recordDate, '-1 day') = w2.recordDate\n",
    "WHERE w1.temp > w2.temp\n",
    "'''\n",
    "\n",
    "cursor.execute(query)\n",
    "result = cursor.fetchall()\n",
    "\n",
    "print(\"+----+\\n| id |\\n+----+\")    #printing result\n",
    "for row in result:\n",
    "    print(f\"|  {row[0]} |\")\n",
    "print(\"+----+\")\n",
    "\n",
    "\n",
    "\n",
    "# Close the connection\n",
    "conn.close()"
   ]
  },
  {
   "cell_type": "code",
   "execution_count": null,
   "id": "abea725b",
   "metadata": {},
   "outputs": [],
   "source": []
  }
 ],
 "metadata": {
  "kernelspec": {
   "display_name": "Python 3 (ipykernel)",
   "language": "python",
   "name": "python3"
  },
  "language_info": {
   "codemirror_mode": {
    "name": "ipython",
    "version": 3
   },
   "file_extension": ".py",
   "mimetype": "text/x-python",
   "name": "python",
   "nbconvert_exporter": "python",
   "pygments_lexer": "ipython3",
   "version": "3.11.7"
  }
 },
 "nbformat": 4,
 "nbformat_minor": 5
}
